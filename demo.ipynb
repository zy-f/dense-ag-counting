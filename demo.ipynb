{
 "cells": [
  {
   "cell_type": "code",
   "execution_count": 1,
   "metadata": {},
   "outputs": [],
   "source": [
    "import sys\n",
    "sys.path.append('/Users/pc/Documents/stfu/classes/_ee292d/CrowdCounting-P2PNet')\n",
    "import os\n",
    "import random\n",
    "import torch\n",
    "from collections import OrderedDict\n",
    "from torch.utils.data import Dataset, Subset, DataLoader\n",
    "from easydict import EasyDict\n",
    "from PIL import Image\n",
    "from torchvision import transforms\n",
    "from models.backbone import BackboneBase_VGG\n",
    "from models.matcher import build_matcher_crowd\n",
    "from models.p2pnet import P2PNet, SetCriterion_Crowd\n",
    "import models.vgg_ as vgg\n",
    "from crowd_datasets.SHHA.SHHA import random_crop\n",
    "from engine import train_one_epoch, evaluate_crowd_no_overlap, vis\n",
    "import util.misc as utils\n",
    "from tqdm import tqdm\n",
    "\n",
    "SEED = 10541 #0x292D\n",
    "VIS_DIR = 'vis'"
   ]
  },
  {
   "cell_type": "code",
   "execution_count": 2,
   "metadata": {},
   "outputs": [],
   "source": [
    "def seed_all(seed=SEED):\n",
    "    random.seed(seed)\n",
    "    # np.random.seed(seed)\n",
    "    torch.manual_seed(seed)\n",
    "    torch.cuda.manual_seed(seed)\n",
    "    torch.backends.cudnn.deterministic = True"
   ]
  },
  {
   "cell_type": "code",
   "execution_count": 3,
   "metadata": {},
   "outputs": [],
   "source": [
    "# need to load pretraining from elsewhere\n",
    "class CustomVGGBackboneWrapper(BackboneBase_VGG):\n",
    "    def __init__(self, name, return_interm_layers=True):\n",
    "        if name == 'vgg16_bn':\n",
    "            backbone = vgg.vgg16_bn()\n",
    "        elif name == 'vgg16':\n",
    "            backbone = vgg.vgg16()\n",
    "        num_channels = 256\n",
    "        super().__init__(backbone, num_channels, name, return_interm_layers)"
   ]
  },
  {
   "cell_type": "code",
   "execution_count": 4,
   "metadata": {},
   "outputs": [],
   "source": [
    "def load_new_model(model_args, device, verbose=False,\n",
    "                   pretrain_layers=['backbone', 'fpn', 'classification', 'regression'],\n",
    "                   freeze_layers=[]):\n",
    "    num_classes = 1\n",
    "\n",
    "    backbone = CustomVGGBackboneWrapper(model_args.backbone)\n",
    "    model = P2PNet(backbone, model_args.row, model_args.line)\n",
    "    # load pretrained weights\n",
    "    if len(pretrain_layers) > 0:\n",
    "        checkpoint = torch.load('../CrowdCounting-P2PNet/weights/SHTechA.pth', map_location='cpu')\n",
    "        valid = lambda s: s[:s.find('.')] in pretrain_layers\n",
    "        valid_state = OrderedDict([(k,v) for k,v in checkpoint['model'].items() if valid(k)])\n",
    "        missing, unexpected = model.load_state_dict(valid_state, strict=False)\n",
    "        if verbose:\n",
    "            print(f\"pretrained weights loaded without the following keys:\\n{'\\n'.join(missing)}\")\n",
    "            if len(unexpected) > 0:\n",
    "                print(f\"WARNING: received unexpected keys:\\n{'\\n'.join(unexpected)}\")\n",
    "    for layer in freeze_layers:\n",
    "        for param in tqdm(getattr(model, layer).parameters(), desc=layer):\n",
    "            param.requires_grad = False\n",
    "\n",
    "\n",
    "    weight_dict = {'loss_ce': 1, 'loss_points': model_args.point_loss_coef}\n",
    "    losses = ['labels', 'points']\n",
    "    matcher = build_matcher_crowd(model_args)\n",
    "    criterion = SetCriterion_Crowd(num_classes, \\\n",
    "                                matcher=matcher, weight_dict=weight_dict, \\\n",
    "                                eos_coef=model_args.eos_coef, losses=losses)\n",
    "    return model.to(device), criterion.to(device)"
   ]
  },
  {
   "cell_type": "code",
   "execution_count": 5,
   "metadata": {},
   "outputs": [],
   "source": [
    "DEFAULT_TRANSFORM = transforms.Compose([\n",
    "    transforms.ToTensor(),\n",
    "    transforms.Normalize(mean=[0.485, 0.456, 0.406],\n",
    "                            std=[0.229, 0.224, 0.225]),\n",
    "])\n",
    "\n",
    "TRAIN_TRANSFORM = transforms.Compose([\n",
    "    transforms.ToTensor(),\n",
    "    # transforms.RandomHorizontalFlip(),\n",
    "    transforms.ColorJitter(brightness=0.3, contrast=0.3),\n",
    "    transforms.Normalize(mean=[0.485, 0.456, 0.406],\n",
    "                            std=[0.229, 0.224, 0.225]),\n",
    "])\n",
    "class GrapeDataset(Dataset):\n",
    "    def __init__(self, root_path='labeled/', img_ext='.jpg', lbl_ext='_lbl.txt', \\\n",
    "                 transform=DEFAULT_TRANSFORM, train_transform=TRAIN_TRANSFORM, train=False, patch=False, flip=False):\n",
    "        self.root = root_path + ('' if root_path[-1] == '/' else '/')\n",
    "        self.instances = [f[:-len(lbl_ext)] for f in os.listdir(self.root)\n",
    "                          if os.path.isfile(self.root+f) and f.endswith(lbl_ext)]\n",
    "        self.img_ext = img_ext\n",
    "        self.lbl_ext = lbl_ext\n",
    "        self.trf = transform\n",
    "        self.trn_trf = train_transform\n",
    "        self.train = train\n",
    "        self.patch = patch\n",
    "        self.flip = flip\n",
    "    \n",
    "    def __len__(self):\n",
    "        return len(self.instances)\n",
    "    \n",
    "    def _get_points(self, name):\n",
    "        label_path = self.root + name + self.lbl_ext\n",
    "        with open(label_path, 'r') as f:\n",
    "            coords_list = f.readlines()\n",
    "        coords = torch.tensor(tuple(tuple(map(float, line.split())) for line in coords_list))\n",
    "        return coords\n",
    "    \n",
    "    def _load_image(self, name):\n",
    "        img_path = self.root + name + self.img_ext\n",
    "        img = Image.open(img_path)\n",
    "        return img\n",
    "    \n",
    "    def __getitem__(self, i):\n",
    "        # only support single-instance indexing\n",
    "        img = self._load_image(self.instances[i]) # PIL image\n",
    "        point = self._get_points(self.instances[i]) # tensor\n",
    "        # perform val transforms on Image object\n",
    "        if not (self.train and self.patch): # if not cropping, handle resizing\n",
    "            # fix size of tensors (need to fix this)\n",
    "            # HACK: only batch one example at a time\n",
    "            width, height = img.size\n",
    "            new_width = width // 128 * 128\n",
    "            new_height = height // 128 * 128\n",
    "            img = img.resize((new_width, new_height), Image.LANCZOS)\n",
    "            point[:,0] *= new_width/width\n",
    "            point[:,1] *= new_height/height\n",
    "        # perform standard transforms\n",
    "        if self.train and self.trn_trf is not None:\n",
    "            img = self.trn_trf(img)\n",
    "        elif self.trf is not None:\n",
    "            img = self.trf(img)\n",
    "        # additional transformation if training\n",
    "        if self.train:\n",
    "            # data augmentation -> random scale\n",
    "            scale_range = [0.7, 1.3]\n",
    "            min_size = min(img.shape[1:])\n",
    "            scale = random.uniform(*scale_range)\n",
    "            # scale the image and points\n",
    "            if scale * min_size > 128:\n",
    "                img = torch.nn.functional.upsample_bilinear(img.unsqueeze(0), scale_factor=scale).squeeze(0)\n",
    "                point *= scale\n",
    "            # random crop augumentation\n",
    "            if self.patch:\n",
    "                # generates a batch of images -> we just want one\n",
    "                imgs, points = random_crop(img, point, num_patch=1)\n",
    "                img, point = torch.tensor(imgs[0]), points[0]\n",
    "            # random flipping\n",
    "            if random.random() > 0.5 and self.flip:\n",
    "                # random flip\n",
    "                img = transforms.functional.hflip(img)\n",
    "                for i, _ in enumerate(point):\n",
    "                    point[:, 0] = 128 - point[:, 0]\n",
    "            \n",
    "        img = img.type(torch.float32)\n",
    "        # pack up related infos\n",
    "        img_id = torch.tensor(i, dtype=torch.int32, requires_grad=False)\n",
    "        target = {\n",
    "            'point': point,\n",
    "            'image_id': img_id,\n",
    "            'labels': torch.ones([point.shape[0]]).long()\n",
    "        }\n",
    "        return img, target"
   ]
  },
  {
   "cell_type": "code",
   "execution_count": 6,
   "metadata": {},
   "outputs": [],
   "source": [
    "dl_kwargs = {\n",
    "    # 'batch_size': 128,\n",
    "    'num_workers': 0,\n",
    "    'pin_memory': True,\n",
    "    'collate_fn': utils.collate_fn\n",
    "}\n",
    "def get_subset_dataloaders(dset, subset_idx, k, bsz=128, dl_kwargs=dl_kwargs):\n",
    "    val_idx = subset_idx[k]\n",
    "    val_subset = Subset(dset, val_idx)\n",
    "    val_dl = DataLoader(val_subset, batch_size=1, **dl_kwargs) # HACK\n",
    "    train_idx = torch.cat((subset_idx[:k].flatten(), subset_idx[k+1:].flatten()))\n",
    "    trn_subset = Subset(dset, train_idx)\n",
    "    train_dl = DataLoader(trn_subset, shuffle=True, batch_size=bsz, **dl_kwargs)\n",
    "    trn_evaldl = DataLoader(trn_subset, batch_size=1, **dl_kwargs)\n",
    "    return train_dl, trn_evaldl, val_dl"
   ]
  },
  {
   "cell_type": "code",
   "execution_count": 7,
   "metadata": {},
   "outputs": [
    {
     "name": "stdout",
     "output_type": "stream",
     "text": [
      "mps\n",
      "200\n"
     ]
    }
   ],
   "source": [
    "hparams = EasyDict(\n",
    "    lr_gen = 1e-4, # orig: 1e-4\n",
    "    lr_backbone = 1e-5, # orig: 1e-5\n",
    "    weight_decay = 1e-4, #orig: 1e-4\n",
    "    epochs = 200,\n",
    "    lr_drop = 1000,\n",
    "    bsz = 64, # orig: 32\n",
    "    clip_max_norm = 0.1, #orig: 0.1\n",
    "    val_every = 10,\n",
    "    pretrain_layers = ['backbone', 'fpn'],\n",
    "    freeze_layers = []\n",
    ")\n",
    "model_args = EasyDict(\n",
    "    # required to build inference model\n",
    "    backbone = 'vgg16_bn', # name of the convolutional backbone to use\n",
    "    pretrained = False,\n",
    "    row = 1, # row number of anchor points\n",
    "    line = 1, # line number of anchor points\n",
    "    # required for model training\n",
    "    point_loss_coef = 2e-4, # orig: 2e-4\n",
    "    eos_coef = 0.5, #orig: 0.5 # Relative classification weight of the no-object class\n",
    "    set_cost_class = 2, #orig: 1 # for matcher -- Class coefficient in the matching cost\n",
    "    set_cost_point = .05 #orig: .05 # for matcher -- L1 point coefficient in the matching cost\n",
    ")\n",
    "device = torch.device('mps' if torch.backends.mps.is_available() else 'cpu')\n",
    "print(device)\n",
    "base_dset = GrapeDataset(train=False, patch=False, flip=False)\n",
    "K = 5\n",
    "print(len(base_dset))\n",
    "assert len(base_dset) % K == 0 # kfold splits must be exactly even"
   ]
  },
  {
   "cell_type": "code",
   "execution_count": 8,
   "metadata": {},
   "outputs": [
    {
     "name": "stdout",
     "output_type": "stream",
     "text": [
      ">>> FOLD 5/5 <<<\n"
     ]
    },
    {
     "ename": "ZeroDivisionError",
     "evalue": "division by zero",
     "output_type": "error",
     "traceback": [
      "\u001b[0;31m---------------------------------------------------------------------------\u001b[0m",
      "\u001b[0;31mZeroDivisionError\u001b[0m                         Traceback (most recent call last)",
      "Cell \u001b[0;32mIn[8], line 21\u001b[0m\n\u001b[1;32m     10\u001b[0m model, criterion \u001b[38;5;241m=\u001b[39m load_new_model(model_args, device, pretrain_layers\u001b[38;5;241m=\u001b[39mhparams\u001b[38;5;241m.\u001b[39mpretrain_layers, freeze_layers\u001b[38;5;241m=\u001b[39mhparams\u001b[38;5;241m.\u001b[39mfreeze_layers)\n\u001b[1;32m     11\u001b[0m opt_params \u001b[38;5;241m=\u001b[39m [\n\u001b[1;32m     12\u001b[0m     {\n\u001b[1;32m     13\u001b[0m         \u001b[38;5;124m\"\u001b[39m\u001b[38;5;124mparams\u001b[39m\u001b[38;5;124m\"\u001b[39m: [p \u001b[38;5;28;01mfor\u001b[39;00m n, p \u001b[38;5;129;01min\u001b[39;00m model\u001b[38;5;241m.\u001b[39mnamed_parameters() \u001b[38;5;28;01mif\u001b[39;00m \u001b[38;5;124m\"\u001b[39m\u001b[38;5;124mbackbone\u001b[39m\u001b[38;5;124m\"\u001b[39m \u001b[38;5;129;01mnot\u001b[39;00m \u001b[38;5;129;01min\u001b[39;00m n \u001b[38;5;129;01mand\u001b[39;00m p\u001b[38;5;241m.\u001b[39mrequires_grad],\n\u001b[0;32m   (...)\u001b[0m\n\u001b[1;32m     19\u001b[0m     },\n\u001b[1;32m     20\u001b[0m ]\n\u001b[0;32m---> 21\u001b[0m \u001b[38;5;241;43m0\u001b[39;49m\u001b[38;5;241;43m/\u001b[39;49m\u001b[38;5;241;43m0\u001b[39;49m\n\u001b[1;32m     22\u001b[0m optimizer \u001b[38;5;241m=\u001b[39m torch\u001b[38;5;241m.\u001b[39moptim\u001b[38;5;241m.\u001b[39mAdam(opt_params)\n\u001b[1;32m     23\u001b[0m lr_scheduler \u001b[38;5;241m=\u001b[39m torch\u001b[38;5;241m.\u001b[39moptim\u001b[38;5;241m.\u001b[39mlr_scheduler\u001b[38;5;241m.\u001b[39mStepLR(optimizer, hparams\u001b[38;5;241m.\u001b[39mlr_drop)\n",
      "\u001b[0;31mZeroDivisionError\u001b[0m: division by zero"
     ]
    }
   ],
   "source": [
    "seed_all()\n",
    "folds = torch.randperm(len(base_dset)).reshape(K, -1)\n",
    "# wipe vis directory for val outputs\n",
    "for f in os.listdir(VIS_DIR):\n",
    "    if f.endswith('jpg'):\n",
    "        os.remove(f\"{VIS_DIR}/{f}\")\n",
    "for k in range(K-1,K):\n",
    "    print(f\">>> FOLD {k+1}/{K} <<<\")\n",
    "    train_dl, trn_evaldl, val_dl = get_subset_dataloaders(base_dset, folds, k, bsz=hparams.bsz, dl_kwargs=dl_kwargs)\n",
    "    model, criterion = load_new_model(model_args, device, pretrain_layers=hparams.pretrain_layers, freeze_layers=hparams.freeze_layers)\n",
    "    opt_params = [\n",
    "        {\n",
    "            \"params\": [p for n, p in model.named_parameters() if \"backbone\" not in n and p.requires_grad],\n",
    "            \"lr\": hparams.lr_gen\n",
    "        },\n",
    "        {\n",
    "            \"params\": [p for n, p in model.named_parameters() if \"backbone\" in n and p.requires_grad],\n",
    "            \"lr\": hparams.lr_backbone,\n",
    "        },\n",
    "    ]\n",
    "    optimizer = torch.optim.Adam(opt_params)\n",
    "    lr_scheduler = torch.optim.lr_scheduler.StepLR(optimizer, hparams.lr_drop)\n",
    "    for attr in ['train', 'patch', 'flip']:\n",
    "        base_dset.__setattr__(attr, True)\n",
    "    for epoch in range(hparams.epochs):\n",
    "        print(f\"EPOCH {epoch+1}/{hparams.epochs}\")\n",
    "        stats = train_one_epoch(model, criterion, train_dl, optimizer, device, \\\n",
    "                                epoch, hparams.clip_max_norm)\n",
    "        lr_scheduler.step()\n",
    "        if epoch and (epoch+1) % hparams.val_every == 0:\n",
    "            # HACK: disable and then re-enable training-time args for the dataset\n",
    "            for attr in ['train', 'patch', 'flip']:\n",
    "                base_dset.__setattr__(attr, False)\n",
    "            # visualize final results only\n",
    "            vis_dir = VIS_DIR if hparams.val_every + epoch >= hparams.epochs else None\n",
    "            t_mae, t_mse = evaluate_crowd_no_overlap(model, trn_evaldl, device, vis_dir=vis_dir)\n",
    "            print(f\"trn: mae={t_mae}, mse={t_mse}\")\n",
    "            v_mae, v_mse = evaluate_crowd_no_overlap(model, val_dl, device, vis_dir=vis_dir)\n",
    "            print(f\"val: mae={v_mae}, mse={v_mse}\")\n",
    "            # reset stuff for training\n",
    "            for attr in ['train', 'patch', 'flip']:\n",
    "                base_dset.__setattr__(attr, True)\n",
    "    print(\"val idxs:\", sorted(folds[k].tolist()))\n",
    "    # input('waiting for check >')\n"
   ]
  },
  {
   "cell_type": "markdown",
   "metadata": {},
   "source": [
    "## analysis"
   ]
  },
  {
   "cell_type": "code",
   "execution_count": 21,
   "metadata": {},
   "outputs": [],
   "source": [
    "import inference as inf\n",
    "import matplotlib.pyplot as plt\n",
    "plt.style.use('seaborn-v0_8-deep')"
   ]
  },
  {
   "cell_type": "code",
   "execution_count": 12,
   "metadata": {},
   "outputs": [],
   "source": [
    "gc = inf.GrapeCounter(device='mps')"
   ]
  },
  {
   "cell_type": "code",
   "execution_count": 16,
   "metadata": {},
   "outputs": [
    {
     "name": "stderr",
     "output_type": "stream",
     "text": [
      "/var/folders/cp/ps4v9yh52dj0wy2dnwf912cr0000gn/T/ipykernel_29958/245802525.py:86: UserWarning: To copy construct from a tensor, it is recommended to use sourceTensor.clone().detach() or sourceTensor.clone().detach().requires_grad_(True), rather than torch.tensor(sourceTensor).\n",
      "  img_id = torch.tensor(i, dtype=torch.int32, requires_grad=False)\n"
     ]
    },
    {
     "name": "stdout",
     "output_type": "stream",
     "text": [
      "val: mae=7.85, mse=10.644247272588137\n"
     ]
    }
   ],
   "source": [
    "for attr in ['train', 'patch', 'flip']:\n",
    "    base_dset.__setattr__(attr, False)\n",
    "# _, _, val_dl = get_subset_dataloaders(base_dset, folds, 4, bsz=hparams.bsz, dl_kwargs=dl_kwargs)\n",
    "v_mae, v_mse = evaluate_crowd_no_overlap(gc.model, val_dl, device, vis_dir=VIS_DIR)\n",
    "print(f\"val: mae={v_mae}, mse={v_mse}\")"
   ]
  },
  {
   "cell_type": "code",
   "execution_count": 34,
   "metadata": {},
   "outputs": [
    {
     "name": "stderr",
     "output_type": "stream",
     "text": [
      "/var/folders/cp/ps4v9yh52dj0wy2dnwf912cr0000gn/T/ipykernel_29958/245802525.py:86: UserWarning: To copy construct from a tensor, it is recommended to use sourceTensor.clone().detach() or sourceTensor.clone().detach().requires_grad_(True), rather than torch.tensor(sourceTensor).\n",
      "  img_id = torch.tensor(i, dtype=torch.int32, requires_grad=False)\n"
     ]
    }
   ],
   "source": [
    "# idxs = []\n",
    "ys = []\n",
    "preds = []\n",
    "for sample, target in val_dl:\n",
    "    with torch.no_grad():\n",
    "        outputs = gc.model(sample.to(gc.device))\n",
    "        points = gc._get_points(outputs).cpu().numpy()\n",
    "    # idxs.append(target[0]['image_id'].item())\n",
    "    ys.append(len(target[0]['point']))\n",
    "    preds.append(len(points))\n",
    "ys = torch.tensor(ys)\n",
    "preds = torch.tensor(preds)"
   ]
  },
  {
   "cell_type": "code",
   "execution_count": 30,
   "metadata": {},
   "outputs": [
    {
     "name": "stderr",
     "output_type": "stream",
     "text": [
      "/var/folders/cp/ps4v9yh52dj0wy2dnwf912cr0000gn/T/ipykernel_29958/3611545113.py:9: UserWarning: FigureCanvasAgg is non-interactive, and thus cannot be shown\n",
      "  fig.show()\n"
     ]
    },
    {
     "data": {
      "image/png": "[encoded data removed]",
      "text/plain": [
       "<Figure size 1200x400 with 1 Axes>"
      ]
     },
     "metadata": {},
     "output_type": "display_data"
    }
   ],
   "source": [
    "xr = torch.arange(len(preds))\n",
    "order = torch.argsort(ys)\n",
    "fig, ax = plt.subplots(figsize=(12, 4))\n",
    "ax.scatter(xr, ys[order], label='True')\n",
    "ax.scatter(xr, preds[order], label='Predicted')\n",
    "ax.legend()\n",
    "ax.get_xaxis().set_visible(False)\n",
    "ax.set_ylabel('Grape Count')\n",
    "fig.show()"
   ]
  },
  {
   "cell_type": "code",
   "execution_count": 33,
   "metadata": {},
   "outputs": [
    {
     "name": "stderr",
     "output_type": "stream",
     "text": [
      "/var/folders/cp/ps4v9yh52dj0wy2dnwf912cr0000gn/T/ipykernel_29958/1081490356.py:8: UserWarning: FigureCanvasAgg is non-interactive, and thus cannot be shown\n",
      "  fig.show()\n"
     ]
    },
    {
     "data": {
      "image/png": "[encoded data removed]",
      "text/plain": [
       "<Figure size 1200x400 with 1 Axes>"
      ]
     },
     "metadata": {},
     "output_type": "display_data"
    }
   ],
   "source": [
    "_ys = torch.tensor(ys)\n",
    "_preds = torch.tensor(preds)\n",
    "frac_diff = torch.abs(_ys - _preds) / _ys\n",
    "fig, ax = plt.subplots(figsize=(12, 4))\n",
    "ax.scatter(xr, frac_diff)\n",
    "ax.get_xaxis().set_visible(False)\n",
    "ax.set_ylabel('Fractional Count Error')\n",
    "fig.show()"
   ]
  },
  {
   "cell_type": "code",
   "execution_count": 36,
   "metadata": {},
   "outputs": [
    {
     "name": "stdout",
     "output_type": "stream",
     "text": [
      "['180_gt_121_pred_98_pred.jpg', '57_gt_50_pred_42_pred.jpg', '30_gt_26_pred_43_pred.jpg', '150_gt_84_pred_95_pred.jpg', '34_gt_20_pred_15_pred.jpg', '53_gt_43_pred_46_pred.jpg', '78_gt_78_pred_76_pred.jpg', '146_gt_32_pred_36_pred.jpg', '55_gt_9_pred_8_pred.jpg', '163_gt_16_pred_11_pred.jpg', '153_gt_47_pred_38_pred.jpg', '191_gt_78_pred_43_pred.jpg', '7_gt_47_pred_51_pred.jpg', '107_gt_86_pred_45_pred.jpg', '52_gt_28_pred_30_pred.jpg', '6_gt_17_pred_14_pred.jpg', '130_gt_44_pred_44_pred.jpg', '16_gt_35_pred_24_pred.jpg', '145_gt_48_pred_57_pred.jpg', '182_gt_60_pred_70_pred.jpg', '128_gt_39_pred_38_pred.jpg', '83_gt_21_pred_12_pred.jpg', '174_gt_24_pred_22_pred.jpg', '190_gt_28_pred_8_pred.jpg', '79_gt_38_pred_39_pred.jpg', '10_gt_49_pred_41_pred.jpg', '192_gt_79_pred_82_pred.jpg', '148_gt_33_pred_27_pred.jpg', '184_gt_30_pred_28_pred.jpg', '147_gt_60_pred_45_pred.jpg', '176_gt_26_pred_26_pred.jpg', '158_gt_68_pred_52_pred.jpg', '39_gt_73_pred_71_pred.jpg', '119_gt_43_pred_24_pred.jpg', '139_gt_47_pred_37_pred.jpg', '96_gt_11_pred_10_pred.jpg', '51_gt_88_pred_89_pred.jpg', '62_gt_106_pred_84_pred.jpg', '102_gt_107_pred_92_pred.jpg', '89_gt_10_pred_8_pred.jpg', '121_gt_91_pred_84_pred.jpg', '94_gt_20_pred_22_pred.jpg', '106_gt_43_pred_41_pred.jpg', '44_gt_41_pred_46_pred.jpg', '97_gt_39_pred_40_pred.jpg', '84_gt_34_pred_15_pred.jpg', '181_gt_72_pred_46_pred.jpg', '165_gt_24_pred_19_pred.jpg', '104_gt_37_pred_20_pred.jpg', '157_gt_20_pred_18_pred.jpg', '95_gt_26_pred_26_pred.jpg', '126_gt_22_pred_24_pred.jpg', '29_gt_24_pred_23_pred.jpg', '0_gt_60_pred_39_pred.jpg', '61_gt_49_pred_50_pred.jpg', '92_gt_113_pred_90_pred.jpg', '136_gt_30_pred_17_pred.jpg', '69_gt_14_pred_7_pred.jpg', '152_gt_85_pred_84_pred.jpg', '11_gt_16_pred_21_pred.jpg', '46_gt_57_pred_45_pred.jpg', '20_gt_9_pred_1_pred.jpg', '178_gt_7_pred_9_pred.jpg', '171_gt_15_pred_16_pred.jpg', '101_gt_25_pred_34_pred.jpg', '107_gt_86_pred_55_pred.jpg', '109_gt_29_pred_37_pred.jpg', '169_gt_7_pred_7_pred.jpg', '140_gt_23_pred_27_pred.jpg', '86_gt_14_pred_12_pred.jpg', '90_gt_16_pred_6_pred.jpg', '137_gt_40_pred_35_pred.jpg', '168_gt_46_pred_45_pred.jpg', '82_gt_81_pred_89_pred.jpg', '197_gt_5_pred_1_pred.jpg', '88_gt_87_pred_80_pred.jpg', '70_gt_52_pred_48_pred.jpg', '49_gt_39_pred_29_pred.jpg', '9_gt_19_pred_18_pred.jpg', '84_gt_34_pred_13_pred.jpg', '66_gt_46_pred_47_pred.jpg', '118_gt_8_pred_5_pred.jpg', '156_gt_52_pred_54_pred.jpg', '196_gt_39_pred_28_pred.jpg', '103_gt_28_pred_31_pred.jpg', '23_gt_33_pred_37_pred.jpg', '18_gt_70_pred_83_pred.jpg', '17_gt_40_pred_33_pred.jpg', '129_gt_48_pred_44_pred.jpg', '131_gt_60_pred_49_pred.jpg', '193_gt_61_pred_63_pred.jpg', '108_gt_48_pred_46_pred.jpg', '141_gt_44_pred_16_pred.jpg', '13_gt_29_pred_40_pred.jpg', '50_gt_7_pred_3_pred.jpg', '16_gt_35_pred_28_pred.jpg', '152_gt_85_pred_76_pred.jpg', '186_gt_75_pred_70_pred.jpg', '24_gt_41_pred_32_pred.jpg', '151_gt_108_pred_114_pred.jpg', '41_gt_31_pred_21_pred.jpg', '18_gt_70_pred_89_pred.jpg', '155_gt_87_pred_62_pred.jpg', '74_gt_9_pred_8_pred.jpg', '123_gt_71_pred_68_pred.jpg', '28_gt_16_pred_13_pred.jpg', '28_gt_16_pred_12_pred.jpg', '161_gt_60_pred_69_pred.jpg', '71_gt_36_pred_35_pred.jpg', '162_gt_20_pred_21_pred.jpg', '19_gt_15_pred_16_pred.jpg', '40_gt_29_pred_35_pred.jpg', '120_gt_44_pred_41_pred.jpg', '189_gt_41_pred_32_pred.jpg', '80_gt_12_pred_8_pred.jpg', '38_gt_32_pred_23_pred.jpg', '115_gt_27_pred_29_pred.jpg', '93_gt_62_pred_55_pred.jpg', '94_gt_20_pred_21_pred.jpg', '21_gt_69_pred_66_pred.jpg', '124_gt_18_pred_15_pred.jpg', '167_gt_53_pred_41_pred.jpg', '105_gt_83_pred_78_pred.jpg', '125_gt_34_pred_25_pred.jpg', '126_gt_22_pred_26_pred.jpg', '8_gt_37_pred_39_pred.jpg', '63_gt_36_pred_35_pred.jpg', '26_gt_47_pred_44_pred.jpg', '25_gt_51_pred_47_pred.jpg', '42_gt_31_pred_25_pred.jpg', '172_gt_79_pred_83_pred.jpg', '160_gt_45_pred_29_pred.jpg', '43_gt_51_pred_52_pred.jpg', '133_gt_17_pred_6_pred.jpg', '60_gt_37_pred_33_pred.jpg', '117_gt_63_pred_56_pred.jpg', '56_gt_52_pred_38_pred.jpg', '109_gt_29_pred_32_pred.jpg', '132_gt_25_pred_21_pred.jpg', '173_gt_53_pred_60_pred.jpg', '76_gt_37_pred_41_pred.jpg', '5_gt_22_pred_22_pred.jpg', '180_gt_121_pred_111_pred.jpg', '113_gt_52_pred_56_pred.jpg', '169_gt_7_pred_3_pred.jpg', '99_gt_15_pred_15_pred.jpg', '102_gt_107_pred_90_pred.jpg', '134_gt_59_pred_44_pred.jpg', '87_gt_76_pred_86_pred.jpg', '85_gt_11_pred_11_pred.jpg', '92_gt_113_pred_106_pred.jpg', '23_gt_33_pred_39_pred.jpg', '144_gt_15_pred_18_pred.jpg', '3_gt_26_pred_25_pred.jpg', '114_gt_58_pred_64_pred.jpg', '15_gt_47_pred_42_pred.jpg', '166_gt_29_pred_13_pred.jpg', '111_gt_7_pred_4_pred.jpg', '179_gt_42_pred_45_pred.jpg', '194_gt_8_pred_5_pred.jpg', '187_gt_39_pred_35_pred.jpg', '13_gt_29_pred_39_pred.jpg', '82_gt_81_pred_91_pred.jpg', '2_gt_33_pred_38_pred.jpg', '127_gt_16_pred_13_pred.jpg', '37_gt_45_pred_43_pred.jpg', '77_gt_54_pred_52_pred.jpg', '30_gt_26_pred_41_pred.jpg', '159_gt_104_pred_109_pred.jpg', '195_gt_56_pred_37_pred.jpg', '22_gt_13_pred_11_pred.jpg', '112_gt_14_pred_10_pred.jpg', '177_gt_14_pred_12_pred.jpg', '12_gt_117_pred_111_pred.jpg', '122_gt_55_pred_58_pred.jpg', '199_gt_49_pred_47_pred.jpg', '43_gt_51_pred_48_pred.jpg', '48_gt_19_pred_20_pred.jpg', '154_gt_28_pred_27_pred.jpg', '35_gt_18_pred_20_pred.jpg', '155_gt_87_pred_61_pred.jpg', '4_gt_15_pred_15_pred.jpg', '111_gt_7_pred_3_pred.jpg', '65_gt_76_pred_48_pred.jpg', '45_gt_32_pred_46_pred.jpg', '91_gt_51_pred_57_pred.jpg', '153_gt_47_pred_37_pred.jpg', '138_gt_45_pred_36_pred.jpg', '51_gt_88_pred_91_pred.jpg', '14_gt_67_pred_67_pred.jpg', '32_gt_15_pred_7_pred.jpg', '32_gt_15_pred_6_pred.jpg', '68_gt_74_pred_86_pred.jpg', '68_gt_74_pred_87_pred.jpg', '64_gt_37_pred_35_pred.jpg', '72_gt_24_pred_22_pred.jpg', '145_gt_48_pred_58_pred.jpg', '98_gt_75_pred_73_pred.jpg', '143_gt_38_pred_33_pred.jpg', '163_gt_16_pred_15_pred.jpg', '67_gt_33_pred_35_pred.jpg', '185_gt_33_pred_33_pred.jpg', '1_gt_56_pred_54_pred.jpg', '186_gt_75_pred_73_pred.jpg', '58_gt_49_pred_49_pred.jpg', '135_gt_20_pred_14_pred.jpg', '175_gt_56_pred_66_pred.jpg', '33_gt_53_pred_50_pred.jpg', '198_gt_47_pred_57_pred.jpg', '170_gt_48_pred_53_pred.jpg', '31_gt_98_pred_88_pred.jpg', '54_gt_47_pred_49_pred.jpg', '75_gt_18_pred_21_pred.jpg', '47_gt_88_pred_82_pred.jpg', '188_gt_125_pred_143_pred.jpg', '73_gt_31_pred_29_pred.jpg', '100_gt_85_pred_89_pred.jpg', '189_gt_41_pred_27_pred.jpg', '149_gt_13_pred_9_pred.jpg', '116_gt_52_pred_37_pred.jpg', '59_gt_33_pred_32_pred.jpg', '81_gt_99_pred_106_pred.jpg', '27_gt_44_pred_41_pred.jpg', '22_gt_13_pred_7_pred.jpg', '89_gt_10_pred_7_pred.jpg', '183_gt_30_pred_27_pred.jpg', '36_gt_17_pred_4_pred.jpg', '142_gt_81_pred_34_pred.jpg', '164_gt_50_pred_55_pred.jpg', '164_gt_50_pred_54_pred.jpg', '110_gt_19_pred_12_pred.jpg', '125_gt_34_pred_29_pred.jpg']\n"
     ]
    }
   ],
   "source": [
    "print(os.listdir(VIS_DIR))"
   ]
  },
  {
   "cell_type": "code",
   "execution_count": 38,
   "metadata": {},
   "outputs": [
    {
     "name": "stdout",
     "output_type": "stream",
     "text": [
      "hi\n",
      "hi\n",
      "hi\n",
      "hi\n",
      "hi\n",
      "hi\n",
      "hi\n",
      "hi\n",
      "hi\n",
      "hi\n",
      "hi\n",
      "hi\n",
      "hi\n",
      "hi\n",
      "hi\n",
      "hi\n",
      "hi\n",
      "hi\n",
      "hi\n",
      "hi\n",
      "hi\n",
      "hi\n",
      "hi\n",
      "hi\n",
      "hi\n",
      "hi\n",
      "hi\n",
      "hi\n",
      "hi\n",
      "hi\n",
      "hi\n",
      "hi\n",
      "hi\n",
      "hi\n",
      "hi\n",
      "hi\n",
      "hi\n",
      "hi\n",
      "hi\n",
      "hi\n",
      "hi\n",
      "hi\n",
      "hi\n",
      "hi\n",
      "hi\n",
      "hi\n",
      "hi\n",
      "hi\n",
      "hi\n",
      "hi\n",
      "hi\n",
      "hi\n",
      "hi\n",
      "hi\n",
      "hi\n",
      "hi\n",
      "hi\n",
      "hi\n",
      "hi\n",
      "hi\n",
      "hi\n",
      "hi\n",
      "hi\n",
      "hi\n",
      "hi\n",
      "hi\n",
      "hi\n",
      "hi\n",
      "hi\n",
      "hi\n",
      "hi\n",
      "hi\n",
      "hi\n",
      "hi\n",
      "hi\n",
      "hi\n",
      "hi\n",
      "hi\n",
      "hi\n",
      "hi\n",
      "hi\n",
      "hi\n",
      "hi\n",
      "hi\n",
      "hi\n",
      "hi\n",
      "hi\n",
      "hi\n",
      "hi\n",
      "hi\n",
      "hi\n",
      "hi\n",
      "hi\n",
      "hi\n",
      "hi\n",
      "hi\n",
      "hi\n",
      "hi\n",
      "hi\n",
      "hi\n",
      "hi\n",
      "hi\n",
      "hi\n",
      "hi\n",
      "hi\n",
      "hi\n",
      "hi\n",
      "hi\n",
      "hi\n",
      "hi\n",
      "hi\n",
      "hi\n",
      "hi\n",
      "hi\n",
      "hi\n",
      "hi\n",
      "hi\n",
      "hi\n",
      "hi\n",
      "hi\n",
      "hi\n",
      "hi\n",
      "hi\n",
      "hi\n",
      "hi\n",
      "hi\n",
      "hi\n",
      "hi\n",
      "hi\n",
      "hi\n",
      "hi\n",
      "hi\n",
      "hi\n",
      "hi\n",
      "hi\n",
      "hi\n",
      "hi\n",
      "hi\n",
      "hi\n",
      "hi\n",
      "hi\n",
      "hi\n",
      "hi\n",
      "hi\n",
      "hi\n",
      "hi\n",
      "hi\n",
      "hi\n",
      "hi\n",
      "hi\n",
      "hi\n",
      "hi\n",
      "hi\n",
      "hi\n",
      "hi\n",
      "hi\n",
      "hi\n",
      "hi\n",
      "hi\n",
      "hi\n"
     ]
    }
   ],
   "source": [
    "val_idxs = sorted(folds[k].tolist())\n",
    "for f in os.listdir(VIS_DIR):\n",
    "    f_idx = int(f[:f.find('_')])\n",
    "    if not (f_idx in val_idxs):\n",
    "        os.remove(f\"{VIS_DIR}/{f}\")"
   ]
  },
  {
   "cell_type": "markdown",
   "metadata": {},
   "source": [
    "# fixing crops"
   ]
  },
  {
   "cell_type": "code",
   "execution_count": 38,
   "metadata": {},
   "outputs": [],
   "source": [
    "import os\n",
    "import cv2\n",
    "import numpy as np\n",
    "import matplotlib.pyplot as plt"
   ]
  },
  {
   "cell_type": "code",
   "execution_count": 39,
   "metadata": {},
   "outputs": [],
   "source": [
    "path = 'cropped/'\n",
    "images = [f for f in os.listdir(path)\n",
    "          if os.path.isfile(path+f) and f.endswith('.jpg')]\n",
    "THRESH = 5 # need more than THRESH nonzero values to be considered valid\n",
    "BLACK_THRESH = 100\n",
    "MIN_IMG_DIM = 128\n",
    "\n",
    "# finds the first index of 1D array x that surpasses the threshold\n",
    "find_first = lambda x: (x > THRESH).argmax()\n",
    "for img_name in images:\n",
    "    img = cv2.imread(path+img_name)\n",
    "    nonblack_mask = (img > BLACK_THRESH)\n",
    "    img_1ch = nonblack_mask.any(axis=2).astype(int) # flatten channels\n",
    "    first_good_x = find_first(img_1ch.sum(axis=0))\n",
    "    first_good_y = find_first(img_1ch.sum(axis=1))\n",
    "    # crop\n",
    "    cropped_img = img\n",
    "    if first_good_x:\n",
    "        cropped_img = cropped_img[:, first_good_x:-first_good_x]\n",
    "    if first_good_y:\n",
    "        cropped_img = cropped_img[first_good_y:-first_good_y]\n",
    "    roi = cropped_img\n",
    "    min_dim = min(roi.shape[0], roi.shape[1])\n",
    "    scale = max(1, MIN_IMG_DIM/min_dim)\n",
    "    scale_up = lambda l: int(np.ceil(scale*l))\n",
    "    roi_out = cv2.resize(roi, (scale_up(roi.shape[1]), scale_up(roi.shape[0])))\n",
    "    # fix coordinates\n",
    "    # label_path = path+img_name[:-len(\"anno.jpg\")]+\"lbl.txt\"\n",
    "    # with open(label_path, 'r') as f:\n",
    "    #     coords_list = f.readlines()\n",
    "    #     coords = [tuple(map(int, line.split())) for line in coords_list]\n",
    "    #     fixed_coords = [(scale_up(x-first_good_x), scale_up(y-first_good_y)) for (x,y) in coords]\n",
    "    # label_str = '\\n'.join([f\"{x} {y}\" for (x,y) in fixed_coords])\n",
    "    # overwrite files\n",
    "    cv2.imwrite(path+img_name, roi_out)\n",
    "    # with open(label_path, 'w') as f:\n",
    "    #     f.write(label_str)"
   ]
  },
  {
   "cell_type": "code",
   "execution_count": null,
   "metadata": {},
   "outputs": [],
   "source": []
  }
 ],
 "metadata": {
  "kernelspec": {
   "display_name": "ag_ct",
   "language": "python",
   "name": "python3"
  },
  "language_info": {
   "codemirror_mode": {
    "name": "ipython",
    "version": 3
   },
   "file_extension": ".py",
   "mimetype": "text/x-python",
   "name": "python",
   "nbconvert_exporter": "python",
   "pygments_lexer": "ipython3",
   "version": "3.12.3"
  }
 },
 "nbformat": 4,
 "nbformat_minor": 2
}
